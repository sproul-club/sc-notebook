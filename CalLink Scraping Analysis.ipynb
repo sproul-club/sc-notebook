{
 "cells": [
  {
   "cell_type": "code",
   "execution_count": 1,
   "metadata": {},
   "outputs": [],
   "source": [
    "# Native imports\n",
    "import sys\n",
    "import os\n",
    "import os.path\n",
    "import json\n",
    "from pprint import pprint\n",
    "import urllib.request\n",
    "import urllib.parse\n",
    "\n",
    "# 3rd-party scraping/parsing imports\n",
    "import requests\n",
    "from bs4 import BeautifulSoup\n",
    "import dateutil.parser as dt\n",
    "\n",
    "# 3rd-party data science imports\n",
    "import pandas as pd\n",
    "import seaborn as sns\n",
    "\n",
    "# Used to make the plots bigger\n",
    "import matplotlib.pyplot as plt\n",
    "plt.rcParams['figure.figsize'] = (8, 8)"
   ]
  },
  {
   "cell_type": "code",
   "execution_count": 2,
   "metadata": {},
   "outputs": [],
   "source": [
    "FORCE_ORG_CATALOG_DOWNLOAD = True"
   ]
  },
  {
   "cell_type": "code",
   "execution_count": 3,
   "metadata": {},
   "outputs": [],
   "source": [
    "ORGS_CATALOG_URL = 'https://callink.berkeley.edu/api/discovery/search/organizations?orderBy%5B0%5D=UpperName%20asc&top=1500'\n",
    "ORG_CATEGORIES_URL = 'https://callink.berkeley.edu/api/discovery/organization/category?take=1000&orderByField=name'\n",
    "\n",
    "ORG_JSON_FILE = 'data/callink-organizations.json'\n",
    "\n",
    "ORG_URL = 'https://callink.berkeley.edu/organization/'\n",
    "PROFILE_PIC_URL = 'https://se-infra-imageserver2.azureedge.net/clink/images/'"
   ]
  },
  {
   "cell_type": "markdown",
   "metadata": {},
   "source": [
    "# Step 0: Download organization data\n"
   ]
  },
  {
   "cell_type": "code",
   "execution_count": 4,
   "metadata": {},
   "outputs": [],
   "source": [
    "if FORCE_ORG_CATALOG_DOWNLOAD or not os.path.isfile(ORG_JSON_FILE):\n",
    "    urllib.request.urlretrieve(ORGS_CATALOG_URL, ORG_JSON_FILE)"
   ]
  },
  {
   "cell_type": "markdown",
   "metadata": {},
   "source": [
    "# Step 1: Load JSON files"
   ]
  },
  {
   "cell_type": "code",
   "execution_count": 5,
   "metadata": {},
   "outputs": [
    {
     "name": "stdout",
     "output_type": "stream",
     "text": [
      "Number of Organizations: 1308\n"
     ]
    }
   ],
   "source": [
    "# Load organizations file\n",
    "with open(ORG_JSON_FILE) as fp:\n",
    "    data = json.load(fp)\n",
    "    \n",
    "    num_orgs = data['@odata.count']\n",
    "    print('Number of Organizations:', num_orgs)\n",
    "    orgs = data['value']"
   ]
  },
  {
   "cell_type": "markdown",
   "metadata": {},
   "source": [
    "# Step 2: Do some data cleaning and sanity checking"
   ]
  },
  {
   "cell_type": "code",
   "execution_count": 6,
   "metadata": {},
   "outputs": [
    {
     "name": "stdout",
     "output_type": "stream",
     "text": [
      "<class 'pandas.core.frame.DataFrame'>\n",
      "RangeIndex: 1308 entries, 0 to 1307\n",
      "Data columns (total 15 columns):\n",
      " #   Column                Non-Null Count  Dtype \n",
      "---  ------                --------------  ----- \n",
      " 0   @search.score         1308 non-null   Int64 \n",
      " 1   Id                    1308 non-null   Int64 \n",
      " 2   InstitutionId         1308 non-null   Int64 \n",
      " 3   ParentOrganizationId  1308 non-null   Int64 \n",
      " 4   BranchId              1308 non-null   Int64 \n",
      " 5   Name                  1308 non-null   string\n",
      " 6   ShortName             1040 non-null   string\n",
      " 7   WebsiteKey            1308 non-null   string\n",
      " 8   ProfilePicture        1103 non-null   string\n",
      " 9   Description           1074 non-null   string\n",
      " 10  Summary               1308 non-null   string\n",
      " 11  CategoryIds           1308 non-null   object\n",
      " 12  CategoryNames         1308 non-null   object\n",
      " 13  Status                1308 non-null   string\n",
      " 14  Visibility            1308 non-null   string\n",
      "dtypes: Int64(5), object(2), string(8)\n",
      "memory usage: 159.8+ KB\n"
     ]
    }
   ],
   "source": [
    "# Prep orgs dataframe\n",
    "orgs_df = pd.DataFrame(orgs)\n",
    "orgs_df = orgs_df.apply(pd.to_numeric, errors='ignore').convert_dtypes()\n",
    "orgs_df.info()"
   ]
  },
  {
   "cell_type": "code",
   "execution_count": 7,
   "metadata": {},
   "outputs": [
    {
     "data": {
      "text/html": [
       "<div>\n",
       "<style scoped>\n",
       "    .dataframe tbody tr th:only-of-type {\n",
       "        vertical-align: middle;\n",
       "    }\n",
       "\n",
       "    .dataframe tbody tr th {\n",
       "        vertical-align: top;\n",
       "    }\n",
       "\n",
       "    .dataframe thead th {\n",
       "        text-align: right;\n",
       "    }\n",
       "</style>\n",
       "<table border=\"1\" class=\"dataframe\">\n",
       "  <thead>\n",
       "    <tr style=\"text-align: right;\">\n",
       "      <th></th>\n",
       "      <th>@search.score</th>\n",
       "      <th>Id</th>\n",
       "      <th>InstitutionId</th>\n",
       "      <th>ParentOrganizationId</th>\n",
       "      <th>BranchId</th>\n",
       "      <th>Name</th>\n",
       "      <th>ShortName</th>\n",
       "      <th>WebsiteKey</th>\n",
       "      <th>ProfilePicture</th>\n",
       "      <th>Description</th>\n",
       "      <th>Summary</th>\n",
       "      <th>CategoryIds</th>\n",
       "      <th>CategoryNames</th>\n",
       "      <th>Status</th>\n",
       "      <th>Visibility</th>\n",
       "    </tr>\n",
       "  </thead>\n",
       "  <tbody>\n",
       "    <tr>\n",
       "      <th>0</th>\n",
       "      <td>1</td>\n",
       "      <td>136978</td>\n",
       "      <td>1660</td>\n",
       "      <td>45852</td>\n",
       "      <td>45852</td>\n",
       "      <td>180 Degrees Consulting at Berkeley</td>\n",
       "      <td>180DC</td>\n",
       "      <td>180dcberkeley</td>\n",
       "      <td>75258de9-3e52-4eac-902f-5e6c58534815ce019de6-d...</td>\n",
       "      <td>&lt;p&gt;180 Degrees Consulting is the world's large...</td>\n",
       "      <td>180 Degrees Consulting provides pro-bono consu...</td>\n",
       "      <td>[2693, 5115, 5118, 7395, 7850, 9413, 9415, 10377]</td>\n",
       "      <td>[y ASUC Student Activity Groups, Professional ...</td>\n",
       "      <td>Active</td>\n",
       "      <td>Public</td>\n",
       "    </tr>\n",
       "    <tr>\n",
       "      <th>1</th>\n",
       "      <td>1</td>\n",
       "      <td>222008</td>\n",
       "      <td>1660</td>\n",
       "      <td>45852</td>\n",
       "      <td>45852</td>\n",
       "      <td>3D Modeling and Animation at Berkeley</td>\n",
       "      <td>3DMA@B</td>\n",
       "      <td>3d-modeling-and-animation-at-berkeley</td>\n",
       "      <td>636dc60c-77df-4fc6-ae01-0530ffd7b9e5ec000150-5...</td>\n",
       "      <td>&lt;div class=\"x_x_x_x_x_x_x_x_x_page\" title=\"Pag...</td>\n",
       "      <td>We are a student organization dedicated to edu...</td>\n",
       "      <td>[5120, 7850]</td>\n",
       "      <td>[Technology Student Organizations, Undergradua...</td>\n",
       "      <td>Active</td>\n",
       "      <td>Public</td>\n",
       "    </tr>\n",
       "    <tr>\n",
       "      <th>2</th>\n",
       "      <td>1</td>\n",
       "      <td>326213</td>\n",
       "      <td>1660</td>\n",
       "      <td>45852</td>\n",
       "      <td>45852</td>\n",
       "      <td>5&amp;2 Community Service</td>\n",
       "      <td>&lt;NA&gt;</td>\n",
       "      <td>5and2</td>\n",
       "      <td>a0992b37-4b8c-4336-9900-dca867a1bf83e0ac0b53-1...</td>\n",
       "      <td>&lt;p&gt;The purpose of this organization is to enga...</td>\n",
       "      <td>Our mission is to provide virtual volunteering...</td>\n",
       "      <td>[5118]</td>\n",
       "      <td>[Service Student Organizations]</td>\n",
       "      <td>Active</td>\n",
       "      <td>Public</td>\n",
       "    </tr>\n",
       "    <tr>\n",
       "      <th>3</th>\n",
       "      <td>1</td>\n",
       "      <td>91982</td>\n",
       "      <td>1660</td>\n",
       "      <td>45852</td>\n",
       "      <td>45852</td>\n",
       "      <td>A Better Way at Berkeley</td>\n",
       "      <td>ABW</td>\n",
       "      <td>abetterwayberkeley</td>\n",
       "      <td>e78e6767-c883-4bbd-9a39-7349e633a5ff1fd21fb7-8...</td>\n",
       "      <td>&lt;p&gt;&lt;span style=\"font-weight: 400;\"&gt;3% of foste...</td>\n",
       "      <td>**Active Fall 2020!!** We tutor foster kids ar...</td>\n",
       "      <td>[5118, 7850]</td>\n",
       "      <td>[Service Student Organizations, Undergraduate ...</td>\n",
       "      <td>Active</td>\n",
       "      <td>Public</td>\n",
       "    </tr>\n",
       "    <tr>\n",
       "      <th>4</th>\n",
       "      <td>1</td>\n",
       "      <td>91428</td>\n",
       "      <td>1660</td>\n",
       "      <td>45852</td>\n",
       "      <td>45852</td>\n",
       "      <td>ABA</td>\n",
       "      <td>&lt;NA&gt;</td>\n",
       "      <td>aba</td>\n",
       "      <td>fd80d6dc-0890-4c90-927a-0d671b24f6df9719695c-f...</td>\n",
       "      <td>&lt;p&gt;ABA was founded in 1975 by a group of stude...</td>\n",
       "      <td>Berkeley ABA is a hybrid consulting organizati...</td>\n",
       "      <td>[2693, 5115, 7850, 10377, 14365]</td>\n",
       "      <td>[y ASUC Student Activity Groups, Professional ...</td>\n",
       "      <td>Active</td>\n",
       "      <td>Public</td>\n",
       "    </tr>\n",
       "  </tbody>\n",
       "</table>\n",
       "</div>"
      ],
      "text/plain": [
       "   @search.score      Id  InstitutionId  ParentOrganizationId  BranchId  \\\n",
       "0              1  136978           1660                 45852     45852   \n",
       "1              1  222008           1660                 45852     45852   \n",
       "2              1  326213           1660                 45852     45852   \n",
       "3              1   91982           1660                 45852     45852   \n",
       "4              1   91428           1660                 45852     45852   \n",
       "\n",
       "                                    Name ShortName  \\\n",
       "0    180 Degrees Consulting at Berkeley      180DC   \n",
       "1  3D Modeling and Animation at Berkeley    3DMA@B   \n",
       "2                  5&2 Community Service      <NA>   \n",
       "3               A Better Way at Berkeley       ABW   \n",
       "4                                    ABA      <NA>   \n",
       "\n",
       "                              WebsiteKey  \\\n",
       "0                          180dcberkeley   \n",
       "1  3d-modeling-and-animation-at-berkeley   \n",
       "2                                  5and2   \n",
       "3                     abetterwayberkeley   \n",
       "4                                    aba   \n",
       "\n",
       "                                      ProfilePicture  \\\n",
       "0  75258de9-3e52-4eac-902f-5e6c58534815ce019de6-d...   \n",
       "1  636dc60c-77df-4fc6-ae01-0530ffd7b9e5ec000150-5...   \n",
       "2  a0992b37-4b8c-4336-9900-dca867a1bf83e0ac0b53-1...   \n",
       "3  e78e6767-c883-4bbd-9a39-7349e633a5ff1fd21fb7-8...   \n",
       "4  fd80d6dc-0890-4c90-927a-0d671b24f6df9719695c-f...   \n",
       "\n",
       "                                         Description  \\\n",
       "0  <p>180 Degrees Consulting is the world's large...   \n",
       "1  <div class=\"x_x_x_x_x_x_x_x_x_page\" title=\"Pag...   \n",
       "2  <p>The purpose of this organization is to enga...   \n",
       "3  <p><span style=\"font-weight: 400;\">3% of foste...   \n",
       "4  <p>ABA was founded in 1975 by a group of stude...   \n",
       "\n",
       "                                             Summary  \\\n",
       "0  180 Degrees Consulting provides pro-bono consu...   \n",
       "1  We are a student organization dedicated to edu...   \n",
       "2  Our mission is to provide virtual volunteering...   \n",
       "3  **Active Fall 2020!!** We tutor foster kids ar...   \n",
       "4  Berkeley ABA is a hybrid consulting organizati...   \n",
       "\n",
       "                                         CategoryIds  \\\n",
       "0  [2693, 5115, 5118, 7395, 7850, 9413, 9415, 10377]   \n",
       "1                                       [5120, 7850]   \n",
       "2                                             [5118]   \n",
       "3                                       [5118, 7850]   \n",
       "4                   [2693, 5115, 7850, 10377, 14365]   \n",
       "\n",
       "                                       CategoryNames  Status Visibility  \n",
       "0  [y ASUC Student Activity Groups, Professional ...  Active     Public  \n",
       "1  [Technology Student Organizations, Undergradua...  Active     Public  \n",
       "2                    [Service Student Organizations]  Active     Public  \n",
       "3  [Service Student Organizations, Undergraduate ...  Active     Public  \n",
       "4  [y ASUC Student Activity Groups, Professional ...  Active     Public  "
      ]
     },
     "execution_count": 7,
     "metadata": {},
     "output_type": "execute_result"
    }
   ],
   "source": [
    "orgs_df.head()"
   ]
  },
  {
   "cell_type": "code",
   "execution_count": 8,
   "metadata": {},
   "outputs": [
    {
     "name": "stdout",
     "output_type": "stream",
     "text": [
      "Unique value counts\n",
      "===================\n",
      "@search.score              1\n",
      "Id                      1308\n",
      "InstitutionId              1\n",
      "ParentOrganizationId       2\n",
      "BranchId                   2\n",
      "Name                    1308\n",
      "ShortName               1021\n",
      "WebsiteKey              1308\n",
      "ProfilePicture          1104\n",
      "Description             1075\n",
      "Summary                 1284\n",
      "Status                     1\n",
      "Visibility                 1\n",
      "dtype: int64\n"
     ]
    }
   ],
   "source": [
    "# List unique values and their counts\n",
    "# NOTE: We are excluding the 'Category' keys because lists aren't hashable\n",
    "print('Unique value counts')\n",
    "print('===================')\n",
    "print(pd.Series({c: len(orgs_df[c].unique()) for c in orgs_df if 'Category' not in c}))"
   ]
  },
  {
   "cell_type": "code",
   "execution_count": 9,
   "metadata": {},
   "outputs": [
    {
     "data": {
      "text/html": [
       "<div>\n",
       "<style scoped>\n",
       "    .dataframe tbody tr th:only-of-type {\n",
       "        vertical-align: middle;\n",
       "    }\n",
       "\n",
       "    .dataframe tbody tr th {\n",
       "        vertical-align: top;\n",
       "    }\n",
       "\n",
       "    .dataframe thead th {\n",
       "        text-align: right;\n",
       "    }\n",
       "</style>\n",
       "<table border=\"1\" class=\"dataframe\">\n",
       "  <thead>\n",
       "    <tr style=\"text-align: right;\">\n",
       "      <th></th>\n",
       "      <th>Id</th>\n",
       "      <th>Name</th>\n",
       "      <th>ShortName</th>\n",
       "      <th>WebsiteKey</th>\n",
       "      <th>ProfilePicture</th>\n",
       "      <th>Description</th>\n",
       "      <th>Summary</th>\n",
       "      <th>CategoryIds</th>\n",
       "      <th>CategoryNames</th>\n",
       "    </tr>\n",
       "  </thead>\n",
       "  <tbody>\n",
       "    <tr>\n",
       "      <th>0</th>\n",
       "      <td>136978</td>\n",
       "      <td>180 Degrees Consulting at Berkeley</td>\n",
       "      <td>180DC</td>\n",
       "      <td>180dcberkeley</td>\n",
       "      <td>75258de9-3e52-4eac-902f-5e6c58534815ce019de6-d...</td>\n",
       "      <td>&lt;p&gt;180 Degrees Consulting is the world's large...</td>\n",
       "      <td>180 Degrees Consulting provides pro-bono consu...</td>\n",
       "      <td>[2693, 5115, 5118, 7395, 7850, 9413, 9415, 10377]</td>\n",
       "      <td>[y ASUC Student Activity Groups, Professional ...</td>\n",
       "    </tr>\n",
       "    <tr>\n",
       "      <th>1</th>\n",
       "      <td>222008</td>\n",
       "      <td>3D Modeling and Animation at Berkeley</td>\n",
       "      <td>3DMA@B</td>\n",
       "      <td>3d-modeling-and-animation-at-berkeley</td>\n",
       "      <td>636dc60c-77df-4fc6-ae01-0530ffd7b9e5ec000150-5...</td>\n",
       "      <td>&lt;div class=\"x_x_x_x_x_x_x_x_x_page\" title=\"Pag...</td>\n",
       "      <td>We are a student organization dedicated to edu...</td>\n",
       "      <td>[5120, 7850]</td>\n",
       "      <td>[Technology Student Organizations, Undergradua...</td>\n",
       "    </tr>\n",
       "    <tr>\n",
       "      <th>2</th>\n",
       "      <td>326213</td>\n",
       "      <td>5&amp;2 Community Service</td>\n",
       "      <td>&lt;NA&gt;</td>\n",
       "      <td>5and2</td>\n",
       "      <td>a0992b37-4b8c-4336-9900-dca867a1bf83e0ac0b53-1...</td>\n",
       "      <td>&lt;p&gt;The purpose of this organization is to enga...</td>\n",
       "      <td>Our mission is to provide virtual volunteering...</td>\n",
       "      <td>[5118]</td>\n",
       "      <td>[Service Student Organizations]</td>\n",
       "    </tr>\n",
       "    <tr>\n",
       "      <th>3</th>\n",
       "      <td>91982</td>\n",
       "      <td>A Better Way at Berkeley</td>\n",
       "      <td>ABW</td>\n",
       "      <td>abetterwayberkeley</td>\n",
       "      <td>e78e6767-c883-4bbd-9a39-7349e633a5ff1fd21fb7-8...</td>\n",
       "      <td>&lt;p&gt;&lt;span style=\"font-weight: 400;\"&gt;3% of foste...</td>\n",
       "      <td>**Active Fall 2020!!** We tutor foster kids ar...</td>\n",
       "      <td>[5118, 7850]</td>\n",
       "      <td>[Service Student Organizations, Undergraduate ...</td>\n",
       "    </tr>\n",
       "    <tr>\n",
       "      <th>4</th>\n",
       "      <td>91428</td>\n",
       "      <td>ABA</td>\n",
       "      <td>&lt;NA&gt;</td>\n",
       "      <td>aba</td>\n",
       "      <td>fd80d6dc-0890-4c90-927a-0d671b24f6df9719695c-f...</td>\n",
       "      <td>&lt;p&gt;ABA was founded in 1975 by a group of stude...</td>\n",
       "      <td>Berkeley ABA is a hybrid consulting organizati...</td>\n",
       "      <td>[2693, 5115, 7850, 10377, 14365]</td>\n",
       "      <td>[y ASUC Student Activity Groups, Professional ...</td>\n",
       "    </tr>\n",
       "    <tr>\n",
       "      <th>...</th>\n",
       "      <td>...</td>\n",
       "      <td>...</td>\n",
       "      <td>...</td>\n",
       "      <td>...</td>\n",
       "      <td>...</td>\n",
       "      <td>...</td>\n",
       "      <td>...</td>\n",
       "      <td>...</td>\n",
       "      <td>...</td>\n",
       "    </tr>\n",
       "    <tr>\n",
       "      <th>1303</th>\n",
       "      <td>235068</td>\n",
       "      <td>Young Musicians Outreach at Berkeley</td>\n",
       "      <td>&lt;NA&gt;</td>\n",
       "      <td>youngmusiciansoutreach</td>\n",
       "      <td>02663c5c-165a-4715-9926-1cea79654be93b318221-1...</td>\n",
       "      <td>&lt;p&gt;A volunteer organization teaching piano and...</td>\n",
       "      <td>A volunteer organization teaching piano and co...</td>\n",
       "      <td>[5100, 7850]</td>\n",
       "      <td>[Arts Student Organizations, Undergraduate Org...</td>\n",
       "    </tr>\n",
       "    <tr>\n",
       "      <th>1304</th>\n",
       "      <td>91258</td>\n",
       "      <td>Youth Advocacy Project</td>\n",
       "      <td>YAP</td>\n",
       "      <td>youthadvocacyproject</td>\n",
       "      <td>&lt;NA&gt;</td>\n",
       "      <td>&lt;p&gt;Students will work as youth advocates to su...</td>\n",
       "      <td>Enable law students to get experience with dir...</td>\n",
       "      <td>[2691, 5118]</td>\n",
       "      <td>[GSG - Graduate Student Groups, Service Studen...</td>\n",
       "    </tr>\n",
       "    <tr>\n",
       "      <th>1305</th>\n",
       "      <td>46461</td>\n",
       "      <td>Zawadi:  Black LGBTQ Community at Berkeley</td>\n",
       "      <td>&lt;NA&gt;</td>\n",
       "      <td>zawadi</td>\n",
       "      <td>e543d5e4-0767-4729-ba73-7a25006c809e77ab99c4-b...</td>\n",
       "      <td>&lt;p&gt;We are interested in increasing visibility ...</td>\n",
       "      <td>This group is a social, academic, and politica...</td>\n",
       "      <td>[2691, 7853]</td>\n",
       "      <td>[GSG - Graduate Student Groups, Cultural &amp; Ide...</td>\n",
       "    </tr>\n",
       "    <tr>\n",
       "      <th>1306</th>\n",
       "      <td>181872</td>\n",
       "      <td>Zeta Chi Consulting</td>\n",
       "      <td>ZC Consulting</td>\n",
       "      <td>zcconsulting</td>\n",
       "      <td>dabebe05-2feb-444d-8b23-791bd72bef9351c89da1-6...</td>\n",
       "      <td>&lt;NA&gt;</td>\n",
       "      <td>ZC Consulting seeks to bring together students...</td>\n",
       "      <td>[5115, 7850]</td>\n",
       "      <td>[Professional Student Organizations, Undergrad...</td>\n",
       "    </tr>\n",
       "    <tr>\n",
       "      <th>1307</th>\n",
       "      <td>91377</td>\n",
       "      <td>Zeta Tau Alpha</td>\n",
       "      <td>&lt;NA&gt;</td>\n",
       "      <td>zetataualpha</td>\n",
       "      <td>79cff071-d349-4dd8-8dc9-30e4307573b5b147b553-8...</td>\n",
       "      <td>&lt;p&gt;Mission Statement: To make a difference in ...</td>\n",
       "      <td>Zeta Tau Alpha is the intensifying of friendsh...</td>\n",
       "      <td>[5138]</td>\n",
       "      <td>[CalGreeks Panhellenic Council (PHC) Sororities]</td>\n",
       "    </tr>\n",
       "  </tbody>\n",
       "</table>\n",
       "<p>1308 rows × 9 columns</p>\n",
       "</div>"
      ],
      "text/plain": [
       "          Id                                        Name      ShortName  \\\n",
       "0     136978         180 Degrees Consulting at Berkeley           180DC   \n",
       "1     222008       3D Modeling and Animation at Berkeley         3DMA@B   \n",
       "2     326213                       5&2 Community Service           <NA>   \n",
       "3      91982                    A Better Way at Berkeley            ABW   \n",
       "4      91428                                         ABA           <NA>   \n",
       "...      ...                                         ...            ...   \n",
       "1303  235068        Young Musicians Outreach at Berkeley           <NA>   \n",
       "1304   91258                      Youth Advocacy Project            YAP   \n",
       "1305   46461  Zawadi:  Black LGBTQ Community at Berkeley           <NA>   \n",
       "1306  181872                         Zeta Chi Consulting  ZC Consulting   \n",
       "1307   91377                              Zeta Tau Alpha           <NA>   \n",
       "\n",
       "                                 WebsiteKey  \\\n",
       "0                             180dcberkeley   \n",
       "1     3d-modeling-and-animation-at-berkeley   \n",
       "2                                     5and2   \n",
       "3                        abetterwayberkeley   \n",
       "4                                       aba   \n",
       "...                                     ...   \n",
       "1303                 youngmusiciansoutreach   \n",
       "1304                   youthadvocacyproject   \n",
       "1305                                 zawadi   \n",
       "1306                           zcconsulting   \n",
       "1307                           zetataualpha   \n",
       "\n",
       "                                         ProfilePicture  \\\n",
       "0     75258de9-3e52-4eac-902f-5e6c58534815ce019de6-d...   \n",
       "1     636dc60c-77df-4fc6-ae01-0530ffd7b9e5ec000150-5...   \n",
       "2     a0992b37-4b8c-4336-9900-dca867a1bf83e0ac0b53-1...   \n",
       "3     e78e6767-c883-4bbd-9a39-7349e633a5ff1fd21fb7-8...   \n",
       "4     fd80d6dc-0890-4c90-927a-0d671b24f6df9719695c-f...   \n",
       "...                                                 ...   \n",
       "1303  02663c5c-165a-4715-9926-1cea79654be93b318221-1...   \n",
       "1304                                               <NA>   \n",
       "1305  e543d5e4-0767-4729-ba73-7a25006c809e77ab99c4-b...   \n",
       "1306  dabebe05-2feb-444d-8b23-791bd72bef9351c89da1-6...   \n",
       "1307  79cff071-d349-4dd8-8dc9-30e4307573b5b147b553-8...   \n",
       "\n",
       "                                            Description  \\\n",
       "0     <p>180 Degrees Consulting is the world's large...   \n",
       "1     <div class=\"x_x_x_x_x_x_x_x_x_page\" title=\"Pag...   \n",
       "2     <p>The purpose of this organization is to enga...   \n",
       "3     <p><span style=\"font-weight: 400;\">3% of foste...   \n",
       "4     <p>ABA was founded in 1975 by a group of stude...   \n",
       "...                                                 ...   \n",
       "1303  <p>A volunteer organization teaching piano and...   \n",
       "1304  <p>Students will work as youth advocates to su...   \n",
       "1305  <p>We are interested in increasing visibility ...   \n",
       "1306                                               <NA>   \n",
       "1307  <p>Mission Statement: To make a difference in ...   \n",
       "\n",
       "                                                Summary  \\\n",
       "0     180 Degrees Consulting provides pro-bono consu...   \n",
       "1     We are a student organization dedicated to edu...   \n",
       "2     Our mission is to provide virtual volunteering...   \n",
       "3     **Active Fall 2020!!** We tutor foster kids ar...   \n",
       "4     Berkeley ABA is a hybrid consulting organizati...   \n",
       "...                                                 ...   \n",
       "1303  A volunteer organization teaching piano and co...   \n",
       "1304  Enable law students to get experience with dir...   \n",
       "1305  This group is a social, academic, and politica...   \n",
       "1306  ZC Consulting seeks to bring together students...   \n",
       "1307  Zeta Tau Alpha is the intensifying of friendsh...   \n",
       "\n",
       "                                            CategoryIds  \\\n",
       "0     [2693, 5115, 5118, 7395, 7850, 9413, 9415, 10377]   \n",
       "1                                          [5120, 7850]   \n",
       "2                                                [5118]   \n",
       "3                                          [5118, 7850]   \n",
       "4                      [2693, 5115, 7850, 10377, 14365]   \n",
       "...                                                 ...   \n",
       "1303                                       [5100, 7850]   \n",
       "1304                                       [2691, 5118]   \n",
       "1305                                       [2691, 7853]   \n",
       "1306                                       [5115, 7850]   \n",
       "1307                                             [5138]   \n",
       "\n",
       "                                          CategoryNames  \n",
       "0     [y ASUC Student Activity Groups, Professional ...  \n",
       "1     [Technology Student Organizations, Undergradua...  \n",
       "2                       [Service Student Organizations]  \n",
       "3     [Service Student Organizations, Undergraduate ...  \n",
       "4     [y ASUC Student Activity Groups, Professional ...  \n",
       "...                                                 ...  \n",
       "1303  [Arts Student Organizations, Undergraduate Org...  \n",
       "1304  [GSG - Graduate Student Groups, Service Studen...  \n",
       "1305  [GSG - Graduate Student Groups, Cultural & Ide...  \n",
       "1306  [Professional Student Organizations, Undergrad...  \n",
       "1307   [CalGreeks Panhellenic Council (PHC) Sororities]  \n",
       "\n",
       "[1308 rows x 9 columns]"
      ]
     },
     "execution_count": 9,
     "metadata": {},
     "output_type": "execute_result"
    }
   ],
   "source": [
    "# Keep only columns that have more than 1 unique value\n",
    "wanted_org_cols = ['Id', 'Name', 'ShortName', 'WebsiteKey', 'ProfilePicture',\n",
    "                   'Description', 'Summary', 'CategoryIds', 'CategoryNames']\n",
    "orgs_df = orgs_df[wanted_org_cols]\n",
    "orgs_df"
   ]
  },
  {
   "cell_type": "markdown",
   "metadata": {},
   "source": [
    "# Step 3: Scrape the data"
   ]
  },
  {
   "cell_type": "code",
   "execution_count": 10,
   "metadata": {},
   "outputs": [
    {
     "name": "stdout",
     "output_type": "stream",
     "text": [
      "50 / 1308 organizations processed\n",
      "100 / 1308 organizations processed\n",
      "150 / 1308 organizations processed\n",
      "200 / 1308 organizations processed\n",
      "250 / 1308 organizations processed\n",
      "300 / 1308 organizations processed\n",
      "350 / 1308 organizations processed\n",
      "400 / 1308 organizations processed\n",
      "450 / 1308 organizations processed\n",
      "500 / 1308 organizations processed\n",
      "550 / 1308 organizations processed\n",
      "600 / 1308 organizations processed\n",
      "650 / 1308 organizations processed\n",
      "700 / 1308 organizations processed\n",
      "750 / 1308 organizations processed\n",
      "800 / 1308 organizations processed\n",
      "850 / 1308 organizations processed\n",
      "900 / 1308 organizations processed\n",
      "950 / 1308 organizations processed\n",
      "1000 / 1308 organizations processed\n",
      "1050 / 1308 organizations processed\n",
      "1100 / 1308 organizations processed\n",
      "1150 / 1308 organizations processed\n",
      "1200 / 1308 organizations processed\n",
      "1250 / 1308 organizations processed\n",
      "1300 / 1308 organizations processed\n",
      "All orgs processed!\n"
     ]
    }
   ],
   "source": [
    "'''\n",
    "Strategy: Although we have to navigate into each link to get the email and any other important info,\n",
    "the good part is we don't need to fully render the page despite CalLink being done in React.\n",
    "\n",
    "'window.initialAppState' is the key, so we just need to fetch that for each organization and we're\n",
    "good to go!\n",
    "'''\n",
    "\n",
    "PHOTOS_DOWNLOAD = False\n",
    "\n",
    "# Make the needed folders for downloading \"debug\" files\n",
    "COVER_PHOTOS_DIR = 'data/cover_pics/'\n",
    "PROFILE_PHOTOS_DIR = 'data/profile_pics/'\n",
    "APP_STATE_DIR = 'data/app_states/'\n",
    "\n",
    "os.makedirs(COVER_PHOTOS_DIR, exist_ok=True)\n",
    "os.makedirs(PROFILE_PHOTOS_DIR, exist_ok=True)\n",
    "os.makedirs(APP_STATE_DIR, exist_ok=True)\n",
    "\n",
    "def fetch_html_page(url):\n",
    "    return requests.get(url).text.strip()\n",
    "\n",
    "def fetch_init_app_state(soup):\n",
    "    for element in soup.find_all('script'):\n",
    "        if len(element.contents) > 0 and 'window.initialAppState' in element.contents[0]:\n",
    "            json_str = element.contents[0].split(' = ')[1][:-1]\n",
    "            return json.loads(json_str)\n",
    "    return None\n",
    "\n",
    "def safe_fetch(obj, key):\n",
    "    return (None if pd.isna(obj.get(key)) else obj[key].strip()) or None\n",
    "\n",
    "def process_org(org_row):\n",
    "    \n",
    "    # Non-nullable initial fields\n",
    "    org_id         = safe_fetch(org_row, 'WebsiteKey')\n",
    "    org_name       = safe_fetch(org_row, 'Name')\n",
    "    org_summary    = safe_fetch(org_row, 'Summary')\n",
    "    org_categories = [name.strip() for name in org_row.get('CategoryNames')]\n",
    "    \n",
    "    # Nullable initial fields\n",
    "    org_short_name  = safe_fetch(org_row, 'ShortName')\n",
    "    org_description = safe_fetch(org_row, 'Description')\n",
    "    \n",
    "    \n",
    "    if not os.path.isfile(APP_STATE_DIR + f'{org_id}.json'):\n",
    "        # Fetch the app state in the org page\n",
    "        html = fetch_html_page(ORG_URL + org_id)\n",
    "        soup = BeautifulSoup(html, 'html.parser')\n",
    "        app_state = fetch_init_app_state(soup)\n",
    "\n",
    "        # Save the app state for debugging purposes\n",
    "        with open(APP_STATE_DIR + f'{org_id}.json', 'w') as fp:\n",
    "            json.dump(app_state, fp)\n",
    "    else:\n",
    "        # Load the app state from the JSON file\n",
    "        with open(APP_STATE_DIR + f'{org_id}.json', 'r') as fp:\n",
    "            app_state = json.load(fp)\n",
    "            \n",
    "    # Shortcut to important organization info\n",
    "    org_details = app_state['preFetchedData']['organization']\n",
    "    \n",
    "    if PHOTOS_DOWNLOAD and not os.path.isfile(COVER_PHOTOS_DIR + f'{org_id}-cover.jpg'):\n",
    "        # Save the cover photo\n",
    "        cover_photo_url = app_state['coverPhoto']['url'].strip()\n",
    "        urllib.request.urlretrieve(cover_photo_url, COVER_PHOTOS_DIR + f'{org_id}-cover.jpg')\n",
    "    \n",
    "    if PHOTOS_DOWNLOAD and not os.path.isfile(PROFILE_PHOTOS_DIR + f'{org_id}-profile.jpg'):\n",
    "        # Save the profile photo\n",
    "        if org_details['profilePicture'] is not None:\n",
    "            profile_photo_url = PROFILE_PIC_URL + org_details['profilePicture'].strip()\n",
    "            urllib.request.urlretrieve(profile_photo_url, PROFILE_PHOTOS_DIR + f'{org_id}-profile.jpg')\n",
    "    \n",
    "    # Get the email, phone, and social media links\n",
    "    email = safe_fetch(org_details, 'email')\n",
    "    \n",
    "    if (len(org_details['contactInfo']) > 1):\n",
    "        print('ALERT - multi contact info', org_id)\n",
    "    \n",
    "    if (len(org_details['contactInfo']) == 1):\n",
    "        contact_info_obj = org_details['contactInfo'][0]\n",
    "        phone     = safe_fetch(contact_info_obj, 'phoneNumber')\n",
    "        phone_ext = safe_fetch(contact_info_obj, 'extension')\n",
    "    else:\n",
    "        phone = None\n",
    "        phone_ext = None\n",
    "    \n",
    "    if org_details['primaryContact'] is not None:\n",
    "        primary_contact_name = f\"{org_details['primaryContact']['firstName']} {org_details['primaryContact']['lastName']}\".strip()\n",
    "        primary_contact_email = org_details['primaryContact']['primaryEmailAddress'].strip()\n",
    "    else:\n",
    "        primary_contact_name = None\n",
    "        primary_contact_email = None\n",
    "    \n",
    "    social_media_tag_map = [\n",
    "        ('website', 'externalWebsite'),\n",
    "        ('flickr', 'flickrUrl'),\n",
    "        ('google-calendar', 'googleCalendarUrl'),\n",
    "        ('google-plus', 'googlePlusUrl'),\n",
    "        ('instagram', 'instagramUrl'),\n",
    "        ('linkedin', 'linkedInUrl'),\n",
    "        ('pinterest', 'pinterestUrl'),\n",
    "        ('tumblr', 'tumblrUrl'),\n",
    "        ('vimeo', 'vimeoUrl'),\n",
    "        ('youtube', 'youtubeUrl'),\n",
    "        ('facebook', 'facebookUrl'),\n",
    "        ('twitter-url', 'twitterUrl'),\n",
    "        ('twitter-user', 'twitterUserName')\n",
    "    ]\n",
    "    \n",
    "    social_media = {}\n",
    "    for (native_tag, alien_tag) in social_media_tag_map:\n",
    "        smedia_obj = org_details['socialMedia']\n",
    "        social_media[native_tag] = safe_fetch(smedia_obj, alien_tag)\n",
    "        \n",
    "    org_start_date = dt.parse(org_details['startDate'])\n",
    "    if org_start_date.timestamp() < 0:\n",
    "        org_start_date = None\n",
    "    else:\n",
    "        org_start_date = org_start_date.date()\n",
    "    \n",
    "    return {\n",
    "        'id': org_id, \n",
    "        'name': org_name,\n",
    "        'has-profile-pic': org_details['profilePicture'] is not None,\n",
    "        'has-cover-pic': True,\n",
    "        # NOTE: There hasn't been a case where an org has no cover photo as of yet.\n",
    "        'start-date': org_start_date,\n",
    "        'summary': org_summary,\n",
    "        'categories': org_categories,\n",
    "        'short-name': org_short_name,\n",
    "        'description': org_description,\n",
    "        'email': email,\n",
    "        'phone': phone,\n",
    "        'phone-ext': phone_ext,\n",
    "        'social-media': social_media\n",
    "    }\n",
    "\n",
    "processed_org_data = []\n",
    "\n",
    "for (index, row) in orgs_df.iterrows():\n",
    "    try:\n",
    "        processed_org = process_org(row)\n",
    "    except:\n",
    "        print(\"Unexpected error:\", sys.exc_info()[0])\n",
    "        print(f\"Problematic organization: {row['WebsiteKey']}\")\n",
    "        raise\n",
    "    processed_org_data += [processed_org]\n",
    "    \n",
    "    if ((index + 1) % 50 == 0):\n",
    "        print(f'{(index + 1)} / {num_orgs} organizations processed')\n",
    "print('All orgs processed!')"
   ]
  },
  {
   "cell_type": "code",
   "execution_count": 11,
   "metadata": {},
   "outputs": [
    {
     "name": "stdout",
     "output_type": "stream",
     "text": [
      "<class 'pandas.core.frame.DataFrame'>\n",
      "RangeIndex: 1308 entries, 0 to 1307\n",
      "Data columns (total 13 columns):\n",
      " #   Column           Non-Null Count  Dtype  \n",
      "---  ------           --------------  -----  \n",
      " 0   id               1308 non-null   string \n",
      " 1   name             1308 non-null   string \n",
      " 2   has-profile-pic  1308 non-null   boolean\n",
      " 3   has-cover-pic    1308 non-null   boolean\n",
      " 4   start-date       851 non-null    object \n",
      " 5   summary          1308 non-null   string \n",
      " 6   categories       1308 non-null   object \n",
      " 7   short-name       1039 non-null   string \n",
      " 8   description      1074 non-null   string \n",
      " 9   email            1023 non-null   string \n",
      " 10  phone            220 non-null    string \n",
      " 11  phone-ext        2 non-null      string \n",
      " 12  social-media     1308 non-null   object \n",
      "dtypes: boolean(2), object(3), string(8)\n",
      "memory usage: 117.6+ KB\n"
     ]
    }
   ],
   "source": [
    "# Let's make a DataFrame from all this new data\n",
    "new_orgs_df = pd.DataFrame(processed_org_data).convert_dtypes()\n",
    "new_orgs_df.info()"
   ]
  },
  {
   "cell_type": "code",
   "execution_count": 12,
   "metadata": {},
   "outputs": [
    {
     "name": "stdout",
     "output_type": "stream",
     "text": [
      "<class 'pandas.core.frame.DataFrame'>\n",
      "RangeIndex: 1308 entries, 0 to 1307\n",
      "Data columns (total 13 columns):\n",
      " #   Column           Non-Null Count  Dtype \n",
      "---  ------           --------------  ----- \n",
      " 0   website          779 non-null    string\n",
      " 1   flickr           13 non-null     string\n",
      " 2   google-calendar  68 non-null     string\n",
      " 3   google-plus      1 non-null      string\n",
      " 4   instagram        463 non-null    string\n",
      " 5   linkedin         152 non-null    string\n",
      " 6   pinterest        1 non-null      string\n",
      " 7   tumblr           6 non-null      string\n",
      " 8   vimeo            4 non-null      string\n",
      " 9   youtube          120 non-null    string\n",
      " 10  facebook         817 non-null    string\n",
      " 11  twitter-url      64 non-null     string\n",
      " 12  twitter-user     211 non-null    string\n",
      "dtypes: string(13)\n",
      "memory usage: 133.0 KB\n"
     ]
    }
   ],
   "source": [
    "# Let's also make a \"sub\" DataFrame for the social media links\n",
    "social_media_map = pd.DataFrame(processed_org_data)['social-media'].values.tolist()\n",
    "orgs_social_df = pd.DataFrame(social_media_map).convert_dtypes()\n",
    "orgs_social_df.info()"
   ]
  },
  {
   "cell_type": "markdown",
   "metadata": {},
   "source": [
    "# Step 4: Visualize and understand the data"
   ]
  },
  {
   "cell_type": "code",
   "execution_count": 13,
   "metadata": {},
   "outputs": [
    {
     "data": {
      "text/plain": [
       "<AxesSubplot:>"
      ]
     },
     "execution_count": 13,
     "metadata": {},
     "output_type": "execute_result"
    },
    {
     "data": {
      "image/png": "[encoded data removed]",
      "text/plain": [
       "<Figure size 576x576 with 1 Axes>"
      ]
     },
     "metadata": {
      "needs_background": "light"
     },
     "output_type": "display_data"
    }
   ],
   "source": [
    "# Visual plot to show \n",
    "sns.barplot(y=orgs_social_df.count().index, x=orgs_social_df.count())"
   ]
  },
  {
   "cell_type": "code",
   "execution_count": 14,
   "metadata": {},
   "outputs": [
    {
     "data": {
      "text/plain": [
       "website            779\n",
       "flickr              13\n",
       "google-calendar     68\n",
       "google-plus          1\n",
       "instagram          463\n",
       "linkedin           152\n",
       "pinterest            1\n",
       "tumblr               6\n",
       "vimeo                4\n",
       "youtube            120\n",
       "facebook           817\n",
       "twitter-url         64\n",
       "twitter-user       211\n",
       "dtype: int64"
      ]
     },
     "execution_count": 14,
     "metadata": {},
     "output_type": "execute_result"
    }
   ],
   "source": [
    "orgs_social_df.count()"
   ]
  },
  {
   "cell_type": "code",
   "execution_count": 15,
   "metadata": {},
   "outputs": [
    {
     "data": {
      "text/plain": [
       "<AxesSubplot:xlabel='start-date', ylabel='email'>"
      ]
     },
     "execution_count": 15,
     "metadata": {},
     "output_type": "execute_result"
    },
    {
     "data": {
      "image/png": "[encoded data removed]",
      "text/plain": [
       "<Figure size 576x576 with 1 Axes>"
      ]
     },
     "metadata": {
      "needs_background": "light"
     },
     "output_type": "display_data"
    }
   ],
   "source": [
    "# Trying to see if the age of the club has any correlation to the club having an email or not\n",
    "# Results: No correlation\n",
    "sns.scatterplot(\n",
    "    x=new_orgs_df['start-date'],\n",
    "    y=new_orgs_df['email'].apply(lambda email: not pd.isna(email))\n",
    ")"
   ]
  },
  {
   "cell_type": "code",
   "execution_count": 16,
   "metadata": {},
   "outputs": [
    {
     "name": "stdout",
     "output_type": "stream",
     "text": [
      "Oldest club start: 2011-09-13\n",
      "Newest club start: 2020-10-30\n"
     ]
    }
   ],
   "source": [
    "valid_start_date_indices = new_orgs_df['start-date'].notnull()\n",
    "valid_start_dates = new_orgs_df['start-date'][valid_start_date_indices]\n",
    "\n",
    "print('Oldest club start:', min(valid_start_dates))\n",
    "print('Newest club start:', max(valid_start_dates))"
   ]
  },
  {
   "cell_type": "code",
   "execution_count": 17,
   "metadata": {},
   "outputs": [
    {
     "data": {
      "text/plain": [
       "<AxesSubplot:xlabel='start-date', ylabel='email'>"
      ]
     },
     "execution_count": 17,
     "metadata": {},
     "output_type": "execute_result"
    },
    {
     "data": {
      "image/png": "[encoded data removed]",
      "text/plain": [
       "<Figure size 576x576 with 1 Axes>"
      ]
     },
     "metadata": {
      "needs_background": "light"
     },
     "output_type": "display_data"
    }
   ],
   "source": [
    "# Trying to see if the age of the club has any correlation to the club having an email or not\n",
    "# Results: No correlation\n",
    "sns.scatterplot(\n",
    "    x=new_orgs_df['start-date'][valid_start_date_indices],\n",
    "    y=new_orgs_df['email'].apply(lambda email: not pd.isna(email))\n",
    ")"
   ]
  },
  {
   "cell_type": "code",
   "execution_count": 18,
   "metadata": {},
   "outputs": [],
   "source": [
    "# Save all this data into a massive JSON file\n",
    "\n",
    "from datetime import datetime, date\n",
    "\n",
    "OUTPUT_ORG_INFO_FILE = 'exported/org-info.json'\n",
    "\n",
    "# Allows handling of datetimes\n",
    "def json_serial(obj):\n",
    "    \"\"\"JSON serializer for objects not serializable by default json code\"\"\"\n",
    "\n",
    "    if isinstance(obj, (datetime, date)):\n",
    "        return obj.isoformat()\n",
    "    raise TypeError (\"Type %s not serializable\" % type(obj))\n",
    "\n",
    "\n",
    "with open(OUTPUT_ORG_INFO_FILE, 'w') as fp:\n",
    "    json.dump(processed_org_data, fp, default=json_serial)"
   ]
  },
  {
   "cell_type": "code",
   "execution_count": 19,
   "metadata": {},
   "outputs": [],
   "source": [
    "OUTPUT_ORG_EMAILS = 'exported/org-emails.json'\n",
    "\n",
    "all_club_emails = [org['email'].lower() for org in processed_org_data if org['email'] is not None]\n",
    "with open(OUTPUT_ORG_EMAILS, 'w') as fp:\n",
    "    json.dump(all_club_emails, fp, default=json_serial)"
   ]
  },
  {
   "cell_type": "markdown",
   "metadata": {},
   "source": [
    "# Step 5: Further analysis"
   ]
  },
  {
   "cell_type": "code",
   "execution_count": 20,
   "metadata": {},
   "outputs": [
    {
     "name": "stdout",
     "output_type": "stream",
     "text": [
      "Max length of club name: 134\n",
      "Max length of summary: 255\n",
      "Max length of description: 11816\n"
     ]
    }
   ],
   "source": [
    "print('Max length of club name:', new_orgs_df['name'].apply(len).max())\n",
    "print('Max length of summary:', new_orgs_df['summary'].dropna().apply(len).max())\n",
    "print('Max length of description:', new_orgs_df['description'].dropna().apply(len).max())"
   ]
  },
  {
   "cell_type": "code",
   "execution_count": 21,
   "metadata": {},
   "outputs": [
    {
     "name": "stdout",
     "output_type": "stream",
     "text": [
      "Number of summaries: 1308\n",
      "Number of descriptions: 1074\n"
     ]
    }
   ],
   "source": [
    "summary_lengths = new_orgs_df['summary'].dropna().apply(lambda summary: len(summary)).to_list()\n",
    "print('Number of summaries:', len(summary_lengths))\n",
    "\n",
    "descr_lengths = new_orgs_df['description'].dropna().apply(lambda summary: len(summary)).to_list()\n",
    "print('Number of descriptions:', len(descr_lengths))"
   ]
  },
  {
   "cell_type": "code",
   "execution_count": 22,
   "metadata": {},
   "outputs": [
    {
     "name": "stderr",
     "output_type": "stream",
     "text": [
      "/home/tejashah88/extra-software/anaconda3/envs/sc-notebook/lib/python3.6/site-packages/seaborn/distributions.py:2557: FutureWarning: `distplot` is a deprecated function and will be removed in a future version. Please adapt your code to use either `displot` (a figure-level function with similar flexibility) or `histplot` (an axes-level function for histograms).\n",
      "  warnings.warn(msg, FutureWarning)\n"
     ]
    },
    {
     "data": {
      "text/plain": [
       "<AxesSubplot:>"
      ]
     },
     "execution_count": 22,
     "metadata": {},
     "output_type": "execute_result"
    },
    {
     "data": {
      "image/png": "[encoded data removed]",
      "text/plain": [
       "<Figure size 576x576 with 1 Axes>"
      ]
     },
     "metadata": {
      "needs_background": "light"
     },
     "output_type": "display_data"
    }
   ],
   "source": [
    "sns.distplot(summary_lengths, kde=False)"
   ]
  },
  {
   "cell_type": "code",
   "execution_count": 23,
   "metadata": {},
   "outputs": [
    {
     "name": "stdout",
     "output_type": "stream",
     "text": [
      "0.8472998137802608\n"
     ]
    },
    {
     "data": {
      "text/plain": [
       "<AxesSubplot:>"
      ]
     },
     "execution_count": 23,
     "metadata": {},
     "output_type": "execute_result"
    },
    {
     "data": {
      "image/png": "[encoded data removed]",
      "text/plain": [
       "<Figure size 576x576 with 1 Axes>"
      ]
     },
     "metadata": {
      "needs_background": "light"
     },
     "output_type": "display_data"
    }
   ],
   "source": [
    "new_descr_lengths = [length for length in descr_lengths if length <= 1500]\n",
    "print(len(new_descr_lengths) / len(descr_lengths))\n",
    "sns.distplot(new_descr_lengths, kde=False)"
   ]
  }
 ],
 "metadata": {
  "kernelspec": {
   "display_name": "Python 3",
   "language": "python",
   "name": "python3"
  },
  "language_info": {
   "codemirror_mode": {
    "name": "ipython",
    "version": 3
   },
   "file_extension": ".py",
   "mimetype": "text/x-python",
   "name": "python",
   "nbconvert_exporter": "python",
   "pygments_lexer": "ipython3",
   "version": "3.6.12"
  }
 },
 "nbformat": 4,
 "nbformat_minor": 4
}
