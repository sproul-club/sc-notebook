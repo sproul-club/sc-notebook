{
 "cells": [
  {
   "cell_type": "markdown",
   "metadata": {},
   "source": [
    "# Step 0: Initial Setup"
   ]
  },
  {
   "cell_type": "code",
   "execution_count": null,
   "metadata": {},
   "outputs": [],
   "source": [
    "# Native imports\n",
    "import os\n",
    "import json\n",
    "\n",
    "# MongoDB Python driver import\n",
    "import pymongo\n",
    "\n",
    "# 3rd-party data science imports\n",
    "import pandas as pd\n",
    "import seaborn as sns\n",
    "# pd.set_option('display.max_rows', None)"
   ]
  },
  {
   "cell_type": "code",
   "execution_count": null,
   "metadata": {},
   "outputs": [],
   "source": [
    "# NLP Pre-processing tools\n",
    "import re, string, unicodedata\n",
    "import nltk\n",
    "import contractions      # https://github.com/kootenpv/contractions\n",
    "import inflect           # https://github.com/jaraco/inflect\n",
    "from nltk import word_tokenize, sent_tokenize\n",
    "from nltk.corpus import stopwords\n",
    "from nltk.stem import LancasterStemmer, WordNetLemmatizer\n",
    "import flashtext         # https://github.com/vi3k6i5/flashtext\n",
    "\n",
    "# Main NLP tool kit\n",
    "import gensim           # https://radimrehurek.com/gensim/auto_examples/index.html\n",
    "\n",
    "# Model training\n",
    "from sklearn.pipeline import Pipeline\n",
    "\n",
    "from sklearn.model_selection import train_test_split\n",
    "from sklearn.model_selection import cross_val_score\n",
    "from sklearn.model_selection import GridSearchCV\n",
    "\n",
    "from sklearn.feature_extraction.text import CountVectorizer\n",
    "from sklearn.feature_extraction.text import TfidfTransformer\n",
    "\n",
    "from sklearn.naive_bayes import MultinomialNB\n",
    "from sklearn.linear_model import SGDClassifier"
   ]
  },
  {
   "cell_type": "code",
   "execution_count": null,
   "metadata": {},
   "outputs": [],
   "source": [
    "# Setup NLTK (I selected 'all' corpuses just in case)\n",
    "nltk.download()"
   ]
  },
  {
   "cell_type": "markdown",
   "metadata": {},
   "source": [
    "# Fetch data from MongoDB"
   ]
  },
  {
   "cell_type": "code",
   "execution_count": null,
   "metadata": {},
   "outputs": [],
   "source": [
    "conn_string = # Insert MongoDB URI here\n",
    "client = pymongo.MongoClient(conn_string)"
   ]
  },
  {
   "cell_type": "code",
   "execution_count": null,
   "metadata": {},
   "outputs": [],
   "source": [
    "ALL_CLUB_TAGS = []\n",
    "\n",
    "# Fetch list of tags\n",
    "for tag in client['production-db']['tag'].find():\n",
    "    ALL_CLUB_TAGS += [{\n",
    "        'id': tag['_id'],\n",
    "        'name': tag['name']\n",
    "    }]\n",
    "\n",
    "all_club_tags_df = pd.DataFrame(ALL_CLUB_TAGS)\n",
    "all_club_tags_df.head(25)"
   ]
  },
  {
   "cell_type": "code",
   "execution_count": null,
   "metadata": {},
   "outputs": [],
   "source": [
    "club_info_db = []\n",
    "\n",
    "for user in client['production-db']['new_base_user'].find({'role': 'officer'}):\n",
    "    club_name = user['club']['name'].strip()\n",
    "    club_description = user['club']['about_us'].strip()\n",
    "    club_tags = user['club']['tags']\n",
    "    club_app_required = user['club']['app_required']\n",
    "    \n",
    "    club_info_db += [{\n",
    "        'name': club_name,\n",
    "        'description': club_description,\n",
    "        'tags': club_tags,\n",
    "        'app_required': club_app_required,\n",
    "    }]\n",
    "    \n",
    "club_db_df = pd.DataFrame(club_info_db)\n",
    "club_db_df.head()"
   ]
  },
  {
   "cell_type": "code",
   "execution_count": null,
   "metadata": {},
   "outputs": [],
   "source": [
    "# TODO: Write dumb recommender system using club descriptions, tags, and 'app required' status"
   ]
  }
 ],
 "metadata": {
  "kernelspec": {
   "display_name": "Python 3",
   "language": "python",
   "name": "python3"
  },
  "language_info": {
   "codemirror_mode": {
    "name": "ipython",
    "version": 3
   },
   "file_extension": ".py",
   "mimetype": "text/x-python",
   "name": "python",
   "nbconvert_exporter": "python",
   "pygments_lexer": "ipython3",
   "version": "3.6.10"
  }
 },
 "nbformat": 4,
 "nbformat_minor": 4
}
